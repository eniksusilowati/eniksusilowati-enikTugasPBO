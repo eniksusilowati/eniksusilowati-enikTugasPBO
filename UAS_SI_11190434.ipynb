{
 "cells": [
  {
   "cell_type": "code",
   "execution_count": null,
   "metadata": {
    "id": "PyOPiCv8CwFD"
   },
   "outputs": [],
   "source": []
  },
  {
   "cell_type": "markdown",
   "metadata": {
    "id": "wmLXDio5Dedv"
   },
   "source": [
    "**NIM : 11190434**\n",
    "\n",
    "**Nama : Enik Susilowati**"
   ]
  },
  {
   "cell_type": "markdown",
   "metadata": {
    "id": "4P01AZZYDrDC"
   },
   "source": [
    "\n",
    "1. Ubah nama file notebook ini dengan format **UAS_SI_NIM.ipynb**\n",
    "Contoh : UAS_SI_88199981.ipynb\n",
    "\n",
    "2. Desain Class untuk bangun ruang pada kasus UTS anda. \n",
    "3. Implementasikan Enskapsulasi untuk Class Bangun Datar yang anda rancang.  \n",
    "4. Implentasikan hasil desain class anda dengan membuat 4 (empat) buah objek objek yang berbeda dari dari kelas yang anda. \n",
    "5. Berikan contoh implementasi konsep pewarisan dari class yang anda buat.\n",
    "6. Berikan contoh implementasi konsep polymorphism dari class yang anda buat.\n",
    "7. Berikan penjelasan dari kode yang anda buat untuk point 2 - 6 diatas \n"
   ]
  },
  {
   "cell_type": "code",
   "execution_count": 15,
   "metadata": {
    "id": "xC7nBm7tFn_6"
   },
   "outputs": [],
   "source": [
    "#Jawab\n",
    "class bola:                              #class bola class digunakan untuk membuat definisi kelas baru\n",
    "    \n",
    "    phi = 3.14                           #koefisien phi (attribute ini bersifat global untuk class bola dan anak class lingkaran)\n",
    "    \n",
    "    def __init__(self, jari):            #metode untuk menampilkan objek\n",
    "        self.jari = jari                 #self sebagai parameter pertamanya merujuk kepada objek dari class, jari sebagai attribute\n",
    "        \n",
    "    def volume_bola(self):               #metode yang dipanggil saat kita membuat sebuah objek\n",
    "        return ((4/3)*self.phi*self.jari*self.jari*self.jari)   #proses perhitungan fungsi volume bola\n",
    "    \n",
    "class lingkaran(bola):                  #pewarisan dari class bola\n",
    "    \n",
    "    def __init__(self, jari):           # metode turunan dari class bola\n",
    "        super().__init__(jari)          #digunakan untuk merepresentasikan class bola\n",
    "        \n",
    "    def luas_lingkaran(self):           #metode untuk menampilkan objek\n",
    "        return self.phi*self.jari*self.jari  #proses perhitungan fungsi luas lingkaran\n",
    "    \n",
    "    def keliling(self):                  #metode untuk menampilkan objek\n",
    "        return 2*self.phi*self.jari      #proses perhitungan fungsi keliling\n",
    "    \n",
    "    def Luas_permukaan(self):              #metode untuk menampilkan objek\n",
    "        return (4*self.phi*self.jari*self.jari) #proses perhitungan fungsi luas permukaan"
   ]
  },
  {
   "cell_type": "code",
   "execution_count": 8,
   "metadata": {},
   "outputs": [],
   "source": [
    "cari = bola(12) #membuat variabel untuk menentukan attribute yang akan di run"
   ]
  },
  {
   "cell_type": "code",
   "execution_count": 10,
   "metadata": {},
   "outputs": [
    {
     "data": {
      "text/plain": [
       "7234.559999999999"
      ]
     },
     "execution_count": 10,
     "metadata": {},
     "output_type": "execute_result"
    }
   ],
   "source": [
    "cari.volume_bola()"
   ]
  },
  {
   "cell_type": "code",
   "execution_count": 11,
   "metadata": {},
   "outputs": [],
   "source": [
    "cari2 = lingkaran(15)"
   ]
  },
  {
   "cell_type": "code",
   "execution_count": 12,
   "metadata": {},
   "outputs": [
    {
     "data": {
      "text/plain": [
       "706.5"
      ]
     },
     "execution_count": 12,
     "metadata": {},
     "output_type": "execute_result"
    }
   ],
   "source": [
    "cari2.luas_lingkaran()"
   ]
  },
  {
   "cell_type": "code",
   "execution_count": 13,
   "metadata": {},
   "outputs": [
    {
     "data": {
      "text/plain": [
       "94.2"
      ]
     },
     "execution_count": 13,
     "metadata": {},
     "output_type": "execute_result"
    }
   ],
   "source": [
    "cari2.keliling()"
   ]
  },
  {
   "cell_type": "code",
   "execution_count": 14,
   "metadata": {},
   "outputs": [
    {
     "data": {
      "text/plain": [
       "2826.0"
      ]
     },
     "execution_count": 14,
     "metadata": {},
     "output_type": "execute_result"
    }
   ],
   "source": [
    "cari2.Luas_permukaan()"
   ]
  }
 ],
 "metadata": {
  "colab": {
   "collapsed_sections": [],
   "name": "UAS_SI_NIM.ipynb",
   "provenance": []
  },
  "kernelspec": {
   "display_name": "Python 3",
   "language": "python",
   "name": "python3"
  },
  "language_info": {
   "codemirror_mode": {
    "name": "ipython",
    "version": 3
   },
   "file_extension": ".py",
   "mimetype": "text/x-python",
   "name": "python",
   "nbconvert_exporter": "python",
   "pygments_lexer": "ipython3",
   "version": "3.8.3"
  }
 },
 "nbformat": 4,
 "nbformat_minor": 1
}
